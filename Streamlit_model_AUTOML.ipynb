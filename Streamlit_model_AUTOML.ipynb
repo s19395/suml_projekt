{
 "cells": [
  {
   "cell_type": "markdown",
   "id": "7a96f4da",
   "metadata": {},
   "source": [
    "### 1. Import bibliotek"
   ]
  },
  {
   "cell_type": "code",
   "execution_count": 1,
   "id": "tribal-advertising",
   "metadata": {},
   "outputs": [],
   "source": [
    "import pandas as pd\n",
    "import numpy as np\n",
    "import matplotlib as plt\n",
    "import os\n",
    "import matplotlib.pyplot as plt\n",
    "import seaborn as sns\n",
    "import pickle\n",
    "\n",
    "from sklearn.metrics import classification_report\n",
    "from sklearn.preprocessing import LabelEncoder\n",
    "from sklearn.model_selection import train_test_split\n",
    "from sklearn.metrics import accuracy_score\n",
    "\n",
    "from sklearn.ensemble import RandomForestClassifier\n",
    "from sklearn.linear_model import LogisticRegression\n",
    "from sklearn.tree import DecisionTreeClassifier"
   ]
  },
  {
   "cell_type": "markdown",
   "id": "2feb2c32",
   "metadata": {},
   "source": [
    "### 2. Przygotowanie danych do analizy"
   ]
  },
  {
   "cell_type": "code",
   "execution_count": 2,
   "id": "da8589e9",
   "metadata": {},
   "outputs": [
    {
     "data": {
      "text/plain": [
       "'C:\\\\Users\\\\Elix\\\\Documents\\\\AUTOML_Projekt'"
      ]
     },
     "execution_count": 2,
     "metadata": {},
     "output_type": "execute_result"
    }
   ],
   "source": [
    "os.getcwd()"
   ]
  },
  {
   "cell_type": "code",
   "execution_count": 3,
   "id": "forced-reporter",
   "metadata": {},
   "outputs": [],
   "source": [
    "base_data = pd.read_csv(\"heart.csv\");\n",
    "base_data.columns\n",
    "# na tym etapie tworzymy nową zmienną, którą nazywamy base_data, zawierającą nasz zbiór danych\n",
    "\n",
    "cols = [\"HeartDisease\",\"Age\",\"Sex\",\"ChestPainType\",\"RestingBP\",\"Cholesterol\",\"FastingBS\",\"RestingECG\",\"MaxHR\",\"ExerciseAngina\",\"Oldpeak\",\"ST_Slope\",]\n",
    "data = base_data[cols].copy()\n",
    "# tworzymy kopię naszych danych bez zbędnych kolumn"
   ]
  },
  {
   "cell_type": "code",
   "execution_count": 4,
   "id": "580495c6",
   "metadata": {},
   "outputs": [
    {
     "data": {
      "text/plain": [
       "HeartDisease      False\n",
       "Age               False\n",
       "Sex               False\n",
       "ChestPainType     False\n",
       "RestingBP         False\n",
       "Cholesterol       False\n",
       "FastingBS         False\n",
       "RestingECG        False\n",
       "MaxHR             False\n",
       "ExerciseAngina    False\n",
       "Oldpeak           False\n",
       "ST_Slope          False\n",
       "dtype: bool"
      ]
     },
     "execution_count": 4,
     "metadata": {},
     "output_type": "execute_result"
    }
   ],
   "source": [
    "data.isnull().any()\n",
    "# sprawdzamy czy mamy jakiekolwiek brakujące dane"
   ]
  },
  {
   "cell_type": "markdown",
   "id": "cf45f631",
   "metadata": {},
   "source": [
    "#### Możemy wygenerować mapę ciepła symbolizującą braki danych - każdy \"pomarańczowy pasek\" to miejsce, w którym jest brak danych"
   ]
  },
  {
   "cell_type": "code",
   "execution_count": 5,
   "id": "1b351179",
   "metadata": {},
   "outputs": [
    {
     "data": {
      "text/plain": [
       "<AxesSubplot:>"
      ]
     },
     "execution_count": 5,
     "metadata": {},
     "output_type": "execute_result"
    },
    {
     "data": {
      "image/png": "[encoded data removed]",
      "text/plain": [
       "<Figure size 432x288 with 1 Axes>"
      ]
     },
     "metadata": {
      "needs_background": "light"
     },
     "output_type": "display_data"
    }
   ],
   "source": [
    "sns.heatmap(data.isnull(),yticklabels=False,cbar=False,cmap='viridis')\n",
    "# cbar ustalamy jako false, ponieważ nie wniesie nam to dodatkowych informacji"
   ]
  },
  {
   "cell_type": "markdown",
   "id": "25435d4f",
   "metadata": {},
   "source": [
    "#### Zanim przejdziemy dalej musimy jeszcze zadbać o właściwe nazewnictwo zmiennych. W naszej bazie danych mamy na razie informację w postaci Stringów - np. płeć jest oznaczona jako male lub female. Musimy to naprawić za pomocą \"dumy variable\". Zamienimy je automatycznie na wartości np. 1 będzie dla mężczyzn. Przczytaj o tym więcej: https://pl.wikipedia.org/wiki/Dummy_coding"
   ]
  },
  {
   "cell_type": "code",
   "execution_count": 6,
   "id": "7053913d",
   "metadata": {},
   "outputs": [],
   "source": [
    "encoder = LabelEncoder()\n",
    "data.loc[:,\"Sex\"] = encoder.fit_transform(data.loc[:,\"Sex\"])\n",
    "# F = 0, M = 1\n",
    "\n",
    "encoder = LabelEncoder()\n",
    "data.loc[:,\"ChestPainType\"] = encoder.fit_transform(data.loc[:,\"ChestPainType\"])\n",
    "# ASY = 0, ATA = 1, NAP = 2, TA = 3\n",
    "\n",
    "encoder = LabelEncoder()\n",
    "data.loc[:,\"RestingECG\"] = encoder.fit_transform(data.loc[:,\"RestingECG\"])\n",
    "# LVH = 0, Normal = 1, ST = 2\n",
    "\n",
    "encoder = LabelEncoder()\n",
    "data.loc[:,\"ExerciseAngina\"] = encoder.fit_transform(data.loc[:,\"ExerciseAngina\"])\n",
    "# N = 0, Y = 1\n",
    "\n",
    "encoder = LabelEncoder()\n",
    "data.loc[:,\"ST_Slope\"] = encoder.fit_transform(data.loc[:,\"ST_Slope\"])\n",
    "# Down = 0, Flat = 1, Up = 2"
   ]
  },
  {
   "cell_type": "markdown",
   "id": "90c7b885",
   "metadata": {},
   "source": [
    "3. Eksploracja danych"
   ]
  },
  {
   "cell_type": "code",
   "execution_count": 7,
   "id": "adbbea3e",
   "metadata": {},
   "outputs": [
    {
     "data": {
      "text/plain": [
       "<AxesSubplot:xlabel='HeartDisease', ylabel='count'>"
      ]
     },
     "execution_count": 7,
     "metadata": {},
     "output_type": "execute_result"
    },
    {
     "data": {
      "image/png": "[encoded data removed]",
      "text/plain": [
       "<Figure size 432x288 with 1 Axes>"
      ]
     },
     "metadata": {},
     "output_type": "display_data"
    }
   ],
   "source": [
    "sns.set_style('whitegrid')\n",
    "sns.countplot(x='HeartDisease',data=data)\n",
    "# używamy biblioteki seaborn do stworzenia prostego wykresu symbolizującego osoby, które przeżyły (1) i nie przeżyły (0)"
   ]
  },
  {
   "cell_type": "code",
   "execution_count": 8,
   "id": "d211aad2",
   "metadata": {},
   "outputs": [
    {
     "data": {
      "text/plain": [
       "<AxesSubplot:xlabel='Sex', ylabel='count'>"
      ]
     },
     "execution_count": 8,
     "metadata": {},
     "output_type": "execute_result"
    },
    {
     "data": {
      "image/png": "[encoded data removed]",
      "text/plain": [
       "<Figure size 432x288 with 1 Axes>"
      ]
     },
     "metadata": {},
     "output_type": "display_data"
    }
   ],
   "source": [
    "sns.set_style('whitegrid')\n",
    "sns.countplot(x='Sex',hue='HeartDisease',data=data)\n",
    "# możemy też wygenerować taki wykres, który powie nam więcej o płci osób, które nie przeżyły"
   ]
  },
  {
   "cell_type": "code",
   "execution_count": 9,
   "id": "d362a239",
   "metadata": {},
   "outputs": [
    {
     "data": {
      "text/plain": [
       "<AxesSubplot:xlabel='ChestPainType', ylabel='Age'>"
      ]
     },
     "execution_count": 9,
     "metadata": {},
     "output_type": "execute_result"
    },
    {
     "data": {
      "image/png": "[encoded data removed]",
      "text/plain": [
       "<Figure size 720x720 with 1 Axes>"
      ]
     },
     "metadata": {},
     "output_type": "display_data"
    }
   ],
   "source": [
    "plt.figure(figsize=(10, 10))\n",
    "sns.boxplot(x='ChestPainType',y='Age',data=data)\n",
    "# wygenerujemy sobie boxplot, czyli wykres skrzynkowy dla wieku oraz klasy pasażerów"
   ]
  },
  {
   "cell_type": "markdown",
   "id": "5ff38f6b",
   "metadata": {},
   "source": [
    "### 4. Trenowanie modelu"
   ]
  },
  {
   "cell_type": "code",
   "execution_count": 10,
   "id": "banned-rabbit",
   "metadata": {},
   "outputs": [],
   "source": [
    "y = data.iloc[:,0] # survived - zmienna, którą będziemy chcieli przewidzieć\n",
    "x = data.iloc[:,1:12] # zmienne na podstawie, których chcemy przewidzieć\n",
    "X_train, X_test, y_train, y_test = train_test_split(x, y, test_size = 0.2, random_state = 0)\n",
    "# test size odnosi się do liczby obserwacji przeznaczonej do wytrenowania modelu"
   ]
  },
  {
   "cell_type": "code",
   "execution_count": 11,
   "id": "bibliographic-greene",
   "metadata": {},
   "outputs": [
    {
     "name": "stdout",
     "output_type": "stream",
     "text": [
      "Las: 0.997275204359673\n",
      "Regresja logistyczna: 0.8596730245231607\n",
      "Drzewa decyzyjne: 1.0\n"
     ]
    }
   ],
   "source": [
    "def model(X_train, y_train):\n",
    "    \n",
    "    forest = RandomForestClassifier( n_estimators=10, random_state=0)\n",
    "    forest.fit(X_train,y_train)\n",
    "    print(\"Las: {0}\".format(forest.score(X_train,y_train)) )\n",
    "    \n",
    "    lreg =LogisticRegression(max_iter=1000)\n",
    "    lreg.fit(X_train,y_train)\n",
    "    print(\"Regresja logistyczna: {0}\".format(lreg.score(X_train,y_train)) )\n",
    "  \n",
    "    tree =DecisionTreeClassifier()\n",
    "    tree.fit(X_train,y_train)\n",
    "    print(\"Drzewa decyzyjne: {0}\".format(tree.score(X_train,y_train)) )\n",
    "   \n",
    "    return forest, lreg, tree\n",
    "\n",
    "forest, lreg, tree = model(X_train,y_train)"
   ]
  },
  {
   "cell_type": "code",
   "execution_count": 12,
   "id": "fourth-defensive",
   "metadata": {},
   "outputs": [
    {
     "name": "stdout",
     "output_type": "stream",
     "text": [
      "Random Forest 0.8586956521739131\n",
      "Logistic Regresion 0.8369565217391305\n",
      "Decision Tree 0.75\n"
     ]
    }
   ],
   "source": [
    "target_names=[\"HeartDisease\",\"Normal\"]\n",
    "\n",
    "y1_predict = forest.predict(X_test)\n",
    "print(\"Random Forest {0}\".format(accuracy_score(y_test, y1_predict)))\n",
    "\n",
    "y2_predict = lreg.predict(X_test)\n",
    "print(\"Logistic Regresion {0}\".format(accuracy_score(y_test, y2_predict)))\n",
    "\n",
    "y3_predict = tree.predict(X_test)\n",
    "print(\"Decision Tree {0}\".format(accuracy_score(y_test, y3_predict)))\n",
    "\n",
    "# uzyskujemy dzięki temu informacje dotyczącą dokładności modelu "
   ]
  },
  {
   "cell_type": "code",
   "execution_count": 14,
   "id": "e06003eb",
   "metadata": {},
   "outputs": [
    {
     "name": "stdout",
     "output_type": "stream",
     "text": [
      "Ocena modelu 1. Las\n",
      "              precision    recall  f1-score   support\n",
      "\n",
      "           0       0.83      0.83      0.83        77\n",
      "           1       0.88      0.88      0.88       107\n",
      "\n",
      "    accuracy                           0.86       184\n",
      "   macro avg       0.85      0.85      0.85       184\n",
      "weighted avg       0.86      0.86      0.86       184\n",
      "\n"
     ]
    }
   ],
   "source": [
    "print(\"Ocena modelu 1. Las\")\n",
    "print(classification_report(y_test,y1_predict))\n",
    "# uzyskujemy informację o precyzji, recall, f1, etc.\n",
    "# te wszystkie dane przydadzą się nam do oceny naszego modelu"
   ]
  },
  {
   "cell_type": "markdown",
   "id": "247fc3c3",
   "metadata": {},
   "source": [
    "print(\"Ocena modelu 1. Regresja logistyczna\")\n",
    "print(classification_report(y_test,y2_predict))"
   ]
  },
  {
   "cell_type": "code",
   "execution_count": 15,
   "id": "f24f823c",
   "metadata": {
    "scrolled": true
   },
   "outputs": [
    {
     "name": "stdout",
     "output_type": "stream",
     "text": [
      "Ocena modelu 3. Drzewa decyzyjne\n",
      "              precision    recall  f1-score   support\n",
      "\n",
      "           0       0.67      0.81      0.73        77\n",
      "           1       0.84      0.71      0.77       107\n",
      "\n",
      "    accuracy                           0.75       184\n",
      "   macro avg       0.75      0.76      0.75       184\n",
      "weighted avg       0.76      0.75      0.75       184\n",
      "\n"
     ]
    }
   ],
   "source": [
    "print(\"Ocena modelu 3. Drzewa decyzyjne\")\n",
    "print(classification_report(y_test,y3_predict))"
   ]
  },
  {
   "cell_type": "code",
   "execution_count": 16,
   "id": "b8b02658",
   "metadata": {},
   "outputs": [
    {
     "name": "stdout",
     "output_type": "stream",
     "text": [
      "Ocena modelu 2. Logistic regression\n",
      "              precision    recall  f1-score   support\n",
      "\n",
      "           0       0.83      0.77      0.80        77\n",
      "           1       0.84      0.89      0.86       107\n",
      "\n",
      "    accuracy                           0.84       184\n",
      "   macro avg       0.84      0.83      0.83       184\n",
      "weighted avg       0.84      0.84      0.84       184\n",
      "\n"
     ]
    }
   ],
   "source": [
    "print(\"Ocena modelu 2. Logistic regression\")\n",
    "print(classification_report(y_test,y2_predict))"
   ]
  },
  {
   "cell_type": "markdown",
   "id": "5d26a51b",
   "metadata": {},
   "source": [
    "### 5. Eksport modelu"
   ]
  },
  {
   "cell_type": "markdown",
   "id": "d16c9f76",
   "metadata": {},
   "source": [
    "#### Widzimy, że najlepszymi parametrami cechuje się model pierwszy. Eksportujemy go do pickle."
   ]
  },
  {
   "cell_type": "code",
   "execution_count": 31,
   "id": "168b2ea2",
   "metadata": {},
   "outputs": [],
   "source": [
    "filename = \"model.sv\"\n",
    "pickle.dump(forest, open(filename,'wb'))"
   ]
  },
  {
   "cell_type": "markdown",
   "id": "50f653c0",
   "metadata": {},
   "source": [
    "##### Źródło danych [https://www.kaggle.com/c/titanic/](https://www.kaggle.com/c/titanic), zastosowanie przez Adama Ramblinga"
   ]
  }
 ],
 "metadata": {
  "kernelspec": {
   "display_name": "Python 3 (ipykernel)",
   "language": "python",
   "name": "python3"
  },
  "language_info": {
   "codemirror_mode": {
    "name": "ipython",
    "version": 3
   },
   "file_extension": ".py",
   "mimetype": "text/x-python",
   "name": "python",
   "nbconvert_exporter": "python",
   "pygments_lexer": "ipython3",
   "version": "3.9.7"
  }
 },
 "nbformat": 4,
 "nbformat_minor": 5
}
